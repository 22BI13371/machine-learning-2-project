{
 "cells": [
  {
   "cell_type": "code",
   "execution_count": null,
   "metadata": {
    "vscode": {
     "languageId": "plaintext"
    }
   },
   "outputs": [],
   "source": [
    "!pip install ultralytics\n",
    "\n",
    "import os\n",
    "import cv2\n",
    "import numpy as np\n",
    "from ultralytics import YOLO"
   ]
  },
  {
   "cell_type": "code",
   "execution_count": null,
   "metadata": {
    "vscode": {
     "languageId": "plaintext"
    }
   },
   "outputs": [],
   "source": [
    "images_dir = 'person_resume_funsd_format_v5/dataset/testing/images'       \n",
    "output_dir = 'person_resume_funsd_format_v5/dataset/processed_data/labels'         \n",
    "\n",
    "os.makedirs(output_dir, exist_ok=True)\n",
    "\n",
    "model = YOLO('models/best.pt')\n"
   ]
  },
  {
   "cell_type": "code",
   "execution_count": null,
   "metadata": {
    "vscode": {
     "languageId": "plaintext"
    }
   },
   "outputs": [],
   "source": [
    "def convert_bbox_to_yolo_format(box, img_width, img_height):\n",
    "    \"\"\"\n",
    "    Converts an absolute bbox [xmin, ymin, xmax, ymax] into YOLO format: \n",
    "    (x_center, y_center, width, height) as relative coordinates.\n",
    "    \"\"\"\n",
    "    xmin, ymin, xmax, ymax = box\n",
    "    x_center = (xmin + xmax) / 2.0 / img_width\n",
    "    y_center = (ymin + ymax) / 2.0 / img_height\n",
    "    bbox_width = (xmax - xmin) / img_width\n",
    "    bbox_height = (ymax - ymin) / img_height\n",
    "    return x_center, y_center, bbox_width, bbox_height\n"
   ]
  },
  {
   "cell_type": "code",
   "execution_count": null,
   "metadata": {
    "vscode": {
     "languageId": "plaintext"
    }
   },
   "outputs": [],
   "source": [
    "class_mapping = {\n",
    "    'Experience': 0,\n",
    "    'Personal Info': 1,\n",
    "    'Skills': 2\n",
    "}\n",
    "\n",
    "# Loop through each image file in the images directory\n",
    "for img_name in os.listdir(images_dir):\n",
    "    if img_name.lower().endswith(('.png', '.jpg', '.jpeg')):\n",
    "        img_path = os.path.join(images_dir, img_name)\n",
    "        # Read image using OpenCV\n",
    "        img = cv2.imread(img_path)\n",
    "        if img is None:\n",
    "            print(f\"Failed to load image: {img_path}\")\n",
    "            continue\n",
    "\n",
    "        img_height, img_width = img.shape[:2]\n",
    "        \n",
    "        # Run YOLO prediction\n",
    "        results = model(img_path)[0]  # Get the first result (for the image)\n",
    "        \n",
    "        # Initialize list to hold YOLO formatted predictions\n",
    "        yolo_lines = []\n",
    "        \n",
    "        # Loop through each prediction (bounding box)\n",
    "        for pred in results.boxes.data.cpu().numpy():\n",
    "            # pred format: [xmin, ymin, xmax, ymax, score, class]\n",
    "            xmin, ymin, xmax, ymax, score, cls = pred\n",
    "            \n",
    "            # Convert the bbox to YOLO format\n",
    "            x_center, y_center, bbox_width, bbox_height = convert_bbox_to_yolo_format(\n",
    "                [xmin, ymin, xmax, ymax], img_width, img_height\n",
    "            )\n",
    "            \n",
    "            # Convert class to integer (if needed, based on your training setup)\n",
    "            class_idx = int(cls)\n",
    "            # In our mapping, we assume the model was trained with 0,1,2 corresponding to our desired classes.\n",
    "            # If you have a mapping between model's class names and our desired labels, adjust here.\n",
    "            \n",
    "            # Format: class x_center y_center width height\n",
    "            line = f\"{class_idx} {x_center:.6f} {y_center:.6f} {bbox_width:.6f} {bbox_height:.6f}\"\n",
    "            yolo_lines.append(line)\n",
    "        \n",
    "        # Save the YOLO labels to a .txt file with the same name as the image\n",
    "        txt_filename = os.path.splitext(img_name)[0] + '.txt'\n",
    "        txt_path = os.path.join(output_dir, txt_filename)\n",
    "        with open(txt_path, 'w') as f:\n",
    "            f.write(\"\\n\".join(yolo_lines))\n",
    "        \n",
    "        print(f\"Processed {img_name} and saved labels to {txt_filename}\")\n"
   ]
  }
 ],
 "metadata": {
  "language_info": {
   "name": "python"
  }
 },
 "nbformat": 4,
 "nbformat_minor": 2
}
